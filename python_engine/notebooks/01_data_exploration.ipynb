{
 "cells": [
  {
   "cell_type": "code",
   "execution_count": null,
   "id": "aa031596",
   "metadata": {
    "vscode": {
     "languageId": "plaintext"
    }
   },
   "outputs": [],
   "source": [
    "import torch\n",
    "from transformers import BertForSequenceClassification, BertTokenizer\n",
    "from Bio import SeqIO\n",
    "from Bio.Blast import NCBIWWW\n",
    "import pandas as pd"
   ]
  },
  {
   "cell_type": "code",
   "execution_count": null,
   "id": "a0fc139a",
   "metadata": {
    "vscode": {
     "languageId": "plaintext"
    }
   },
   "outputs": [],
   "source": [
    "fasta_file = \"data/golden_dataset.fasta\"\n",
    "records = list(SeqIO.parse(fasta_file, \"fasta\"))\n",
    "print(f\"Loaded {len(records)} sequences from the Golden Dataset.\")\n",
    "for record in records:\n",
    "    print(f\"- ID: {record.id}, Length: {len(record.seq)} bp\")"
   ]
  },
  {
   "cell_type": "code",
   "execution_count": null,
   "id": "e42fcc14",
   "metadata": {
    "vscode": {
     "languageId": "plaintext"
    }
   },
   "outputs": [],
   "source": [
    "print(\"\\n--- Testing DNABERT Classifier ---\")\n",
    "model_name = 'zhihan1996/dna_bert_3'\n",
    "tokenizer = BertTokenizer.from_pretrained(model_name)\n",
    "model = BertForSequenceClassification.from_pretrained(model_name)\n",
    "\n",
    "# Test with the Anglerfish sequence\n",
    "anglerfish_seq = str(records[2].seq)\n",
    "inputs = tokenizer(anglerfish_seq, return_tensors=\"pt\", padding=True, truncation=True, max_length=512)\n",
    "\n",
    "with torch.no_grad():\n",
    "    outputs = model(**inputs)\n",
    "    probabilities = torch.softmax(outputs.logits, dim=1)\n",
    "    confidence, predicted_class_id = torch.max(probabilities, dim=1)\n",
    "\n",
    "print(f\"Model prediction for Anglerfish sequence:\")\n",
    "print(f\"  - Predicted Class ID: {predicted_class_id.item()}\")\n",
    "print(f\"  - Confidence: {confidence.item():.4f}\")\n",
    "print(\"This confirms the model loads and provides an output.\")"
   ]
  },
  {
   "cell_type": "code",
   "execution_count": null,
   "id": "e09d79aa",
   "metadata": {
    "vscode": {
     "languageId": "plaintext"
    }
   },
   "outputs": [],
   "source": [
    "print(\"\\n--- Testing BLAST Check ---\")\n",
    "print(\"Running BLAST on the Anglerfish sequence. This may take a moment...\")\n",
    "try:\n",
    "    result_handle = NCBIWWW.qblast(\"blastn\", \"nt\", anglerfish_seq, megablast=True, hitlist_size=1)\n",
    "    blast_records = list(result_handle)\n",
    "    if blast_records and blast_records[0].descriptions:\n",
    "        title = blast_records[0].descriptions[0].title\n",
    "        print(f\"BLAST found a match: '{title}'\")\n",
    "    else:\n",
    "        print(\"BLAST found no significant match.\")\n",
    "except Exception as e:\n",
    "    print(f\"BLAST query failed: {e}\")\n",
    "print(\"This confirms our 'hidden pain point' demo is working.\")"
   ]
  }
 ],
 "metadata": {
  "language_info": {
   "name": "python"
  }
 },
 "nbformat": 4,
 "nbformat_minor": 5
}
